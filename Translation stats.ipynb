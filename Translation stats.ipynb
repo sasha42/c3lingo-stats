{
 "cells": [
  {
   "cell_type": "markdown",
   "metadata": {},
   "source": [
    "## Translation stats\n",
    "\n",
    "This notebook analyses data from the c3lingo organization pads, as well as the fahrplan, in order to provide some stats about translation.\n",
    "\n",
    "Created by github.com/sasha42"
   ]
  },
  {
   "cell_type": "code",
   "execution_count": 1,
   "metadata": {},
   "outputs": [],
   "source": [
    "# imports\n",
    "import pandas as pd\n",
    "import requests\n",
    "import matplotlib"
   ]
  },
  {
   "cell_type": "markdown",
   "metadata": {},
   "source": [
    "# Get data from pads\n",
    "First of all, we will get data from the pads. This was already done using a hacked `main.py` file which saved data into a csv."
   ]
  },
  {
   "cell_type": "code",
   "execution_count": 2,
   "metadata": {},
   "outputs": [],
   "source": [
    "# read csv that was saved by main.py\n",
    "df = pd.read_csv('translation.csv')"
   ]
  },
  {
   "cell_type": "markdown",
   "metadata": {},
   "source": [
    "Let's take a look at the shape of this data..."
   ]
  },
  {
   "cell_type": "code",
   "execution_count": 3,
   "metadata": {},
   "outputs": [
    {
     "data": {
      "text/html": [
       "<div>\n",
       "<style scoped>\n",
       "    .dataframe tbody tr th:only-of-type {\n",
       "        vertical-align: middle;\n",
       "    }\n",
       "\n",
       "    .dataframe tbody tr th {\n",
       "        vertical-align: top;\n",
       "    }\n",
       "\n",
       "    .dataframe thead th {\n",
       "        text-align: right;\n",
       "    }\n",
       "</style>\n",
       "<table border=\"1\" class=\"dataframe\">\n",
       "  <thead>\n",
       "    <tr style=\"text-align: right;\">\n",
       "      <th></th>\n",
       "      <th>Unnamed: 0</th>\n",
       "      <th>name</th>\n",
       "      <th>language</th>\n",
       "      <th>talk.translation_shifts</th>\n",
       "      <th>talk.language</th>\n",
       "      <th>talk.room</th>\n",
       "      <th>talk.duration</th>\n",
       "      <th>talk.title</th>\n",
       "      <th>talk.speakers</th>\n",
       "      <th>talk.fahrplan</th>\n",
       "    </tr>\n",
       "  </thead>\n",
       "  <tbody>\n",
       "    <tr>\n",
       "      <td>0</td>\n",
       "      <td>0</td>\n",
       "      <td>waffle</td>\n",
       "      <td>en</td>\n",
       "      <td>[TranslationShift(name=\"waffle\", language=\"en\"...</td>\n",
       "      <td>de</td>\n",
       "      <td>Ada</td>\n",
       "      <td>0 days 00:30:00.000000000</td>\n",
       "      <td>Opening Ceremony (de)</td>\n",
       "      <td>['bleeptrack', 'blinry']</td>\n",
       "      <td>https://fahrplan.events.ccc.de/congress/2019/F...</td>\n",
       "    </tr>\n",
       "    <tr>\n",
       "      <td>1</td>\n",
       "      <td>1</td>\n",
       "      <td>SimplySayM</td>\n",
       "      <td>en</td>\n",
       "      <td>[TranslationShift(name=\"waffle\", language=\"en\"...</td>\n",
       "      <td>de</td>\n",
       "      <td>Ada</td>\n",
       "      <td>0 days 00:30:00.000000000</td>\n",
       "      <td>Opening Ceremony (de)</td>\n",
       "      <td>['bleeptrack', 'blinry']</td>\n",
       "      <td>https://fahrplan.events.ccc.de/congress/2019/F...</td>\n",
       "    </tr>\n",
       "    <tr>\n",
       "      <td>2</td>\n",
       "      <td>2</td>\n",
       "      <td>bluewhobert</td>\n",
       "      <td>en</td>\n",
       "      <td>[TranslationShift(name=\"waffle\", language=\"en\"...</td>\n",
       "      <td>de</td>\n",
       "      <td>Ada</td>\n",
       "      <td>0 days 00:30:00.000000000</td>\n",
       "      <td>Opening Ceremony (de)</td>\n",
       "      <td>['bleeptrack', 'blinry']</td>\n",
       "      <td>https://fahrplan.events.ccc.de/congress/2019/F...</td>\n",
       "    </tr>\n",
       "    <tr>\n",
       "      <td>3</td>\n",
       "      <td>3</td>\n",
       "      <td>ironic</td>\n",
       "      <td>fr</td>\n",
       "      <td>[TranslationShift(name=\"waffle\", language=\"en\"...</td>\n",
       "      <td>de</td>\n",
       "      <td>Ada</td>\n",
       "      <td>0 days 00:30:00.000000000</td>\n",
       "      <td>Opening Ceremony (de)</td>\n",
       "      <td>['bleeptrack', 'blinry']</td>\n",
       "      <td>https://fahrplan.events.ccc.de/congress/2019/F...</td>\n",
       "    </tr>\n",
       "    <tr>\n",
       "      <td>4</td>\n",
       "      <td>4</td>\n",
       "      <td>hnms</td>\n",
       "      <td>fr</td>\n",
       "      <td>[TranslationShift(name=\"waffle\", language=\"en\"...</td>\n",
       "      <td>de</td>\n",
       "      <td>Ada</td>\n",
       "      <td>0 days 00:30:00.000000000</td>\n",
       "      <td>Opening Ceremony (de)</td>\n",
       "      <td>['bleeptrack', 'blinry']</td>\n",
       "      <td>https://fahrplan.events.ccc.de/congress/2019/F...</td>\n",
       "    </tr>\n",
       "  </tbody>\n",
       "</table>\n",
       "</div>"
      ],
      "text/plain": [
       "   Unnamed: 0         name language  \\\n",
       "0           0       waffle       en   \n",
       "1           1   SimplySayM       en   \n",
       "2           2  bluewhobert       en   \n",
       "3           3       ironic       fr   \n",
       "4           4         hnms       fr   \n",
       "\n",
       "                             talk.translation_shifts talk.language talk.room  \\\n",
       "0  [TranslationShift(name=\"waffle\", language=\"en\"...            de       Ada   \n",
       "1  [TranslationShift(name=\"waffle\", language=\"en\"...            de       Ada   \n",
       "2  [TranslationShift(name=\"waffle\", language=\"en\"...            de       Ada   \n",
       "3  [TranslationShift(name=\"waffle\", language=\"en\"...            de       Ada   \n",
       "4  [TranslationShift(name=\"waffle\", language=\"en\"...            de       Ada   \n",
       "\n",
       "               talk.duration             talk.title             talk.speakers  \\\n",
       "0  0 days 00:30:00.000000000  Opening Ceremony (de)  ['bleeptrack', 'blinry']   \n",
       "1  0 days 00:30:00.000000000  Opening Ceremony (de)  ['bleeptrack', 'blinry']   \n",
       "2  0 days 00:30:00.000000000  Opening Ceremony (de)  ['bleeptrack', 'blinry']   \n",
       "3  0 days 00:30:00.000000000  Opening Ceremony (de)  ['bleeptrack', 'blinry']   \n",
       "4  0 days 00:30:00.000000000  Opening Ceremony (de)  ['bleeptrack', 'blinry']   \n",
       "\n",
       "                                       talk.fahrplan  \n",
       "0  https://fahrplan.events.ccc.de/congress/2019/F...  \n",
       "1  https://fahrplan.events.ccc.de/congress/2019/F...  \n",
       "2  https://fahrplan.events.ccc.de/congress/2019/F...  \n",
       "3  https://fahrplan.events.ccc.de/congress/2019/F...  \n",
       "4  https://fahrplan.events.ccc.de/congress/2019/F...  "
      ]
     },
     "execution_count": 3,
     "metadata": {},
     "output_type": "execute_result"
    }
   ],
   "source": [
    "df.head()"
   ]
  },
  {
   "cell_type": "markdown",
   "metadata": {},
   "source": [
    "Great, let's quickly look at how many people participated in the translation effort:"
   ]
  },
  {
   "cell_type": "code",
   "execution_count": 4,
   "metadata": {},
   "outputs": [
    {
     "data": {
      "text/html": [
       "<div>\n",
       "<style scoped>\n",
       "    .dataframe tbody tr th:only-of-type {\n",
       "        vertical-align: middle;\n",
       "    }\n",
       "\n",
       "    .dataframe tbody tr th {\n",
       "        vertical-align: top;\n",
       "    }\n",
       "\n",
       "    .dataframe thead th {\n",
       "        text-align: right;\n",
       "    }\n",
       "</style>\n",
       "<table border=\"1\" class=\"dataframe\">\n",
       "  <thead>\n",
       "    <tr style=\"text-align: right;\">\n",
       "      <th></th>\n",
       "      <th>Unnamed: 0</th>\n",
       "      <th>language</th>\n",
       "      <th>talk.translation_shifts</th>\n",
       "      <th>talk.language</th>\n",
       "      <th>talk.room</th>\n",
       "      <th>talk.duration</th>\n",
       "      <th>talk.title</th>\n",
       "      <th>talk.speakers</th>\n",
       "      <th>talk.fahrplan</th>\n",
       "    </tr>\n",
       "    <tr>\n",
       "      <th>name</th>\n",
       "      <th></th>\n",
       "      <th></th>\n",
       "      <th></th>\n",
       "      <th></th>\n",
       "      <th></th>\n",
       "      <th></th>\n",
       "      <th></th>\n",
       "      <th></th>\n",
       "      <th></th>\n",
       "    </tr>\n",
       "  </thead>\n",
       "  <tbody>\n",
       "    <tr>\n",
       "      <td>@bitnapper</td>\n",
       "      <td>1</td>\n",
       "      <td>1</td>\n",
       "      <td>1</td>\n",
       "      <td>1</td>\n",
       "      <td>1</td>\n",
       "      <td>1</td>\n",
       "      <td>1</td>\n",
       "      <td>1</td>\n",
       "      <td>1</td>\n",
       "    </tr>\n",
       "    <tr>\n",
       "      <td>Aegy</td>\n",
       "      <td>7</td>\n",
       "      <td>7</td>\n",
       "      <td>7</td>\n",
       "      <td>7</td>\n",
       "      <td>7</td>\n",
       "      <td>7</td>\n",
       "      <td>7</td>\n",
       "      <td>7</td>\n",
       "      <td>7</td>\n",
       "    </tr>\n",
       "    <tr>\n",
       "      <td>André</td>\n",
       "      <td>4</td>\n",
       "      <td>4</td>\n",
       "      <td>4</td>\n",
       "      <td>4</td>\n",
       "      <td>4</td>\n",
       "      <td>4</td>\n",
       "      <td>4</td>\n",
       "      <td>4</td>\n",
       "      <td>4</td>\n",
       "    </tr>\n",
       "    <tr>\n",
       "      <td>Bayden</td>\n",
       "      <td>2</td>\n",
       "      <td>2</td>\n",
       "      <td>2</td>\n",
       "      <td>2</td>\n",
       "      <td>2</td>\n",
       "      <td>2</td>\n",
       "      <td>2</td>\n",
       "      <td>2</td>\n",
       "      <td>2</td>\n",
       "    </tr>\n",
       "    <tr>\n",
       "      <td>Ben</td>\n",
       "      <td>10</td>\n",
       "      <td>10</td>\n",
       "      <td>10</td>\n",
       "      <td>10</td>\n",
       "      <td>10</td>\n",
       "      <td>10</td>\n",
       "      <td>10</td>\n",
       "      <td>10</td>\n",
       "      <td>10</td>\n",
       "    </tr>\n",
       "    <tr>\n",
       "      <td>...</td>\n",
       "      <td>...</td>\n",
       "      <td>...</td>\n",
       "      <td>...</td>\n",
       "      <td>...</td>\n",
       "      <td>...</td>\n",
       "      <td>...</td>\n",
       "      <td>...</td>\n",
       "      <td>...</td>\n",
       "      <td>...</td>\n",
       "    </tr>\n",
       "    <tr>\n",
       "      <td>whytea</td>\n",
       "      <td>4</td>\n",
       "      <td>4</td>\n",
       "      <td>4</td>\n",
       "      <td>4</td>\n",
       "      <td>4</td>\n",
       "      <td>4</td>\n",
       "      <td>4</td>\n",
       "      <td>4</td>\n",
       "      <td>4</td>\n",
       "    </tr>\n",
       "    <tr>\n",
       "      <td>yann0u</td>\n",
       "      <td>3</td>\n",
       "      <td>3</td>\n",
       "      <td>3</td>\n",
       "      <td>3</td>\n",
       "      <td>3</td>\n",
       "      <td>3</td>\n",
       "      <td>3</td>\n",
       "      <td>3</td>\n",
       "      <td>3</td>\n",
       "    </tr>\n",
       "    <tr>\n",
       "      <td>yila</td>\n",
       "      <td>5</td>\n",
       "      <td>5</td>\n",
       "      <td>5</td>\n",
       "      <td>5</td>\n",
       "      <td>5</td>\n",
       "      <td>5</td>\n",
       "      <td>5</td>\n",
       "      <td>5</td>\n",
       "      <td>5</td>\n",
       "    </tr>\n",
       "    <tr>\n",
       "      <td>ysegrim</td>\n",
       "      <td>1</td>\n",
       "      <td>1</td>\n",
       "      <td>1</td>\n",
       "      <td>1</td>\n",
       "      <td>1</td>\n",
       "      <td>1</td>\n",
       "      <td>1</td>\n",
       "      <td>1</td>\n",
       "      <td>1</td>\n",
       "    </tr>\n",
       "    <tr>\n",
       "      <td>¯\\__/¯</td>\n",
       "      <td>1</td>\n",
       "      <td>1</td>\n",
       "      <td>1</td>\n",
       "      <td>1</td>\n",
       "      <td>1</td>\n",
       "      <td>1</td>\n",
       "      <td>1</td>\n",
       "      <td>1</td>\n",
       "      <td>1</td>\n",
       "    </tr>\n",
       "  </tbody>\n",
       "</table>\n",
       "<p>129 rows × 9 columns</p>\n",
       "</div>"
      ],
      "text/plain": [
       "            Unnamed: 0  language  talk.translation_shifts  talk.language  \\\n",
       "name                                                                       \n",
       "@bitnapper           1         1                        1              1   \n",
       "Aegy                 7         7                        7              7   \n",
       "André                4         4                        4              4   \n",
       "Bayden               2         2                        2              2   \n",
       "Ben                 10        10                       10             10   \n",
       "...                ...       ...                      ...            ...   \n",
       "whytea               4         4                        4              4   \n",
       "yann0u               3         3                        3              3   \n",
       "yila                 5         5                        5              5   \n",
       "ysegrim              1         1                        1              1   \n",
       "¯\\__/¯               1         1                        1              1   \n",
       "\n",
       "            talk.room  talk.duration  talk.title  talk.speakers  talk.fahrplan  \n",
       "name                                                                            \n",
       "@bitnapper          1              1           1              1              1  \n",
       "Aegy                7              7           7              7              7  \n",
       "André               4              4           4              4              4  \n",
       "Bayden              2              2           2              2              2  \n",
       "Ben                10             10          10             10             10  \n",
       "...               ...            ...         ...            ...            ...  \n",
       "whytea              4              4           4              4              4  \n",
       "yann0u              3              3           3              3              3  \n",
       "yila                5              5           5              5              5  \n",
       "ysegrim             1              1           1              1              1  \n",
       "¯\\__/¯              1              1           1              1              1  \n",
       "\n",
       "[129 rows x 9 columns]"
      ]
     },
     "execution_count": 4,
     "metadata": {},
     "output_type": "execute_result"
    }
   ],
   "source": [
    "df.groupby('name').agg('count')"
   ]
  },
  {
   "cell_type": "code",
   "execution_count": 5,
   "metadata": {},
   "outputs": [
    {
     "name": "stdout",
     "output_type": "stream",
     "text": [
      "There were 129 people who translated\n"
     ]
    }
   ],
   "source": [
    "print(f\"There were {df.groupby('name').agg('count').shape[0]} people who translated\")"
   ]
  },
  {
   "cell_type": "markdown",
   "metadata": {},
   "source": [
    "Ok, now let's look at the rooms in which the translations occured. We will drop WikiPaka translations because we don't have the raw data from the fahrplan (coming in the next section)."
   ]
  },
  {
   "cell_type": "code",
   "execution_count": 6,
   "metadata": {},
   "outputs": [
    {
     "data": {
      "text/html": [
       "<div>\n",
       "<style scoped>\n",
       "    .dataframe tbody tr th:only-of-type {\n",
       "        vertical-align: middle;\n",
       "    }\n",
       "\n",
       "    .dataframe tbody tr th {\n",
       "        vertical-align: top;\n",
       "    }\n",
       "\n",
       "    .dataframe thead th {\n",
       "        text-align: right;\n",
       "    }\n",
       "</style>\n",
       "<table border=\"1\" class=\"dataframe\">\n",
       "  <thead>\n",
       "    <tr style=\"text-align: right;\">\n",
       "      <th></th>\n",
       "      <th>Unnamed: 0</th>\n",
       "      <th>name</th>\n",
       "      <th>language</th>\n",
       "      <th>talk.translation_shifts</th>\n",
       "      <th>talk.language</th>\n",
       "      <th>talk.duration</th>\n",
       "      <th>talk.title</th>\n",
       "      <th>talk.speakers</th>\n",
       "      <th>talk.fahrplan</th>\n",
       "    </tr>\n",
       "    <tr>\n",
       "      <th>talk.room</th>\n",
       "      <th></th>\n",
       "      <th></th>\n",
       "      <th></th>\n",
       "      <th></th>\n",
       "      <th></th>\n",
       "      <th></th>\n",
       "      <th></th>\n",
       "      <th></th>\n",
       "      <th></th>\n",
       "    </tr>\n",
       "  </thead>\n",
       "  <tbody>\n",
       "    <tr>\n",
       "      <td>Ada</td>\n",
       "      <td>145</td>\n",
       "      <td>145</td>\n",
       "      <td>145</td>\n",
       "      <td>145</td>\n",
       "      <td>145</td>\n",
       "      <td>145</td>\n",
       "      <td>145</td>\n",
       "      <td>145</td>\n",
       "      <td>145</td>\n",
       "    </tr>\n",
       "    <tr>\n",
       "      <td>Borg</td>\n",
       "      <td>143</td>\n",
       "      <td>143</td>\n",
       "      <td>143</td>\n",
       "      <td>143</td>\n",
       "      <td>143</td>\n",
       "      <td>143</td>\n",
       "      <td>143</td>\n",
       "      <td>143</td>\n",
       "      <td>143</td>\n",
       "    </tr>\n",
       "    <tr>\n",
       "      <td>Clarke</td>\n",
       "      <td>146</td>\n",
       "      <td>146</td>\n",
       "      <td>146</td>\n",
       "      <td>146</td>\n",
       "      <td>146</td>\n",
       "      <td>146</td>\n",
       "      <td>146</td>\n",
       "      <td>146</td>\n",
       "      <td>146</td>\n",
       "    </tr>\n",
       "    <tr>\n",
       "      <td>Dijkstra</td>\n",
       "      <td>126</td>\n",
       "      <td>126</td>\n",
       "      <td>126</td>\n",
       "      <td>126</td>\n",
       "      <td>126</td>\n",
       "      <td>126</td>\n",
       "      <td>126</td>\n",
       "      <td>126</td>\n",
       "      <td>126</td>\n",
       "    </tr>\n",
       "    <tr>\n",
       "      <td>Eliza</td>\n",
       "      <td>115</td>\n",
       "      <td>115</td>\n",
       "      <td>115</td>\n",
       "      <td>115</td>\n",
       "      <td>115</td>\n",
       "      <td>115</td>\n",
       "      <td>115</td>\n",
       "      <td>115</td>\n",
       "      <td>115</td>\n",
       "    </tr>\n",
       "    <tr>\n",
       "      <td>WikiPaka WG: Bibliothek</td>\n",
       "      <td>1</td>\n",
       "      <td>1</td>\n",
       "      <td>1</td>\n",
       "      <td>1</td>\n",
       "      <td>1</td>\n",
       "      <td>1</td>\n",
       "      <td>1</td>\n",
       "      <td>1</td>\n",
       "      <td>1</td>\n",
       "    </tr>\n",
       "    <tr>\n",
       "      <td>WikiPaka WG: Esszimmer</td>\n",
       "      <td>54</td>\n",
       "      <td>54</td>\n",
       "      <td>54</td>\n",
       "      <td>54</td>\n",
       "      <td>54</td>\n",
       "      <td>54</td>\n",
       "      <td>54</td>\n",
       "      <td>54</td>\n",
       "      <td>54</td>\n",
       "    </tr>\n",
       "  </tbody>\n",
       "</table>\n",
       "</div>"
      ],
      "text/plain": [
       "                         Unnamed: 0  name  language  talk.translation_shifts  \\\n",
       "talk.room                                                                      \n",
       "Ada                             145   145       145                      145   \n",
       "Borg                            143   143       143                      143   \n",
       "Clarke                          146   146       146                      146   \n",
       "Dijkstra                        126   126       126                      126   \n",
       "Eliza                           115   115       115                      115   \n",
       "WikiPaka WG: Bibliothek           1     1         1                        1   \n",
       "WikiPaka WG: Esszimmer           54    54        54                       54   \n",
       "\n",
       "                         talk.language  talk.duration  talk.title  \\\n",
       "talk.room                                                           \n",
       "Ada                                145            145         145   \n",
       "Borg                               143            143         143   \n",
       "Clarke                             146            146         146   \n",
       "Dijkstra                           126            126         126   \n",
       "Eliza                              115            115         115   \n",
       "WikiPaka WG: Bibliothek              1              1           1   \n",
       "WikiPaka WG: Esszimmer              54             54          54   \n",
       "\n",
       "                         talk.speakers  talk.fahrplan  \n",
       "talk.room                                              \n",
       "Ada                                145            145  \n",
       "Borg                               143            143  \n",
       "Clarke                             146            146  \n",
       "Dijkstra                           126            126  \n",
       "Eliza                              115            115  \n",
       "WikiPaka WG: Bibliothek              1              1  \n",
       "WikiPaka WG: Esszimmer              54             54  "
      ]
     },
     "execution_count": 6,
     "metadata": {},
     "output_type": "execute_result"
    }
   ],
   "source": [
    "# look at the rooms that are present\n",
    "df.groupby('talk.room').agg('count')"
   ]
  },
  {
   "cell_type": "code",
   "execution_count": 7,
   "metadata": {},
   "outputs": [],
   "source": [
    "# drop WikiPaka because we don't have equivalent fahrplan data\n",
    "df = df[df['talk.room'] != 'WikiPaka WG: Esszimmer']\n",
    "df = df[df['talk.room'] != 'WikiPaka WG: Bibliothek']"
   ]
  },
  {
   "cell_type": "markdown",
   "metadata": {},
   "source": [
    "Let's count how many talks were translated in general:"
   ]
  },
  {
   "cell_type": "code",
   "execution_count": 8,
   "metadata": {},
   "outputs": [
    {
     "data": {
      "text/html": [
       "<div>\n",
       "<style scoped>\n",
       "    .dataframe tbody tr th:only-of-type {\n",
       "        vertical-align: middle;\n",
       "    }\n",
       "\n",
       "    .dataframe tbody tr th {\n",
       "        vertical-align: top;\n",
       "    }\n",
       "\n",
       "    .dataframe thead th {\n",
       "        text-align: right;\n",
       "    }\n",
       "</style>\n",
       "<table border=\"1\" class=\"dataframe\">\n",
       "  <thead>\n",
       "    <tr style=\"text-align: right;\">\n",
       "      <th></th>\n",
       "      <th>Unnamed: 0</th>\n",
       "      <th>name</th>\n",
       "      <th>language</th>\n",
       "      <th>talk.translation_shifts</th>\n",
       "      <th>talk.language</th>\n",
       "      <th>talk.room</th>\n",
       "      <th>talk.duration</th>\n",
       "      <th>talk.speakers</th>\n",
       "      <th>talk.fahrplan</th>\n",
       "    </tr>\n",
       "    <tr>\n",
       "      <th>talk.title</th>\n",
       "      <th></th>\n",
       "      <th></th>\n",
       "      <th></th>\n",
       "      <th></th>\n",
       "      <th></th>\n",
       "      <th></th>\n",
       "      <th></th>\n",
       "      <th></th>\n",
       "      <th></th>\n",
       "    </tr>\n",
       "  </thead>\n",
       "  <tbody>\n",
       "    <tr>\n",
       "      <td>\"Hacker hin oder her\": Die elektronische Patientenakte kommt!</td>\n",
       "      <td>3</td>\n",
       "      <td>3</td>\n",
       "      <td>3</td>\n",
       "      <td>3</td>\n",
       "      <td>3</td>\n",
       "      <td>3</td>\n",
       "      <td>3</td>\n",
       "      <td>3</td>\n",
       "      <td>3</td>\n",
       "    </tr>\n",
       "    <tr>\n",
       "      <td>#NoPNR – Let’s kill the next Data Retention Law</td>\n",
       "      <td>5</td>\n",
       "      <td>5</td>\n",
       "      <td>5</td>\n",
       "      <td>5</td>\n",
       "      <td>5</td>\n",
       "      <td>5</td>\n",
       "      <td>5</td>\n",
       "      <td>5</td>\n",
       "      <td>5</td>\n",
       "    </tr>\n",
       "    <tr>\n",
       "      <td>#mifail oder: Mit Gigaset wäre das nicht passiert!</td>\n",
       "      <td>3</td>\n",
       "      <td>3</td>\n",
       "      <td>3</td>\n",
       "      <td>3</td>\n",
       "      <td>3</td>\n",
       "      <td>3</td>\n",
       "      <td>3</td>\n",
       "      <td>3</td>\n",
       "      <td>3</td>\n",
       "    </tr>\n",
       "    <tr>\n",
       "      <td>(Post-Quantum) Isogeny Cryptography</td>\n",
       "      <td>4</td>\n",
       "      <td>4</td>\n",
       "      <td>4</td>\n",
       "      <td>4</td>\n",
       "      <td>4</td>\n",
       "      <td>4</td>\n",
       "      <td>4</td>\n",
       "      <td>4</td>\n",
       "      <td>4</td>\n",
       "    </tr>\n",
       "    <tr>\n",
       "      <td>15 Jahre deutsche Telematikinfrastruktur (TI)</td>\n",
       "      <td>2</td>\n",
       "      <td>2</td>\n",
       "      <td>2</td>\n",
       "      <td>2</td>\n",
       "      <td>2</td>\n",
       "      <td>2</td>\n",
       "      <td>2</td>\n",
       "      <td>2</td>\n",
       "      <td>2</td>\n",
       "    </tr>\n",
       "    <tr>\n",
       "      <td>...</td>\n",
       "      <td>...</td>\n",
       "      <td>...</td>\n",
       "      <td>...</td>\n",
       "      <td>...</td>\n",
       "      <td>...</td>\n",
       "      <td>...</td>\n",
       "      <td>...</td>\n",
       "      <td>...</td>\n",
       "      <td>...</td>\n",
       "    </tr>\n",
       "    <tr>\n",
       "      <td>Wifibroadcast</td>\n",
       "      <td>4</td>\n",
       "      <td>4</td>\n",
       "      <td>4</td>\n",
       "      <td>4</td>\n",
       "      <td>4</td>\n",
       "      <td>4</td>\n",
       "      <td>4</td>\n",
       "      <td>4</td>\n",
       "      <td>4</td>\n",
       "    </tr>\n",
       "    <tr>\n",
       "      <td>Wohnungsbot: An Automation-Drama in Three Acts</td>\n",
       "      <td>4</td>\n",
       "      <td>4</td>\n",
       "      <td>4</td>\n",
       "      <td>4</td>\n",
       "      <td>4</td>\n",
       "      <td>4</td>\n",
       "      <td>4</td>\n",
       "      <td>4</td>\n",
       "      <td>4</td>\n",
       "    </tr>\n",
       "    <tr>\n",
       "      <td>ZombieLoad Attack</td>\n",
       "      <td>2</td>\n",
       "      <td>2</td>\n",
       "      <td>2</td>\n",
       "      <td>2</td>\n",
       "      <td>2</td>\n",
       "      <td>2</td>\n",
       "      <td>2</td>\n",
       "      <td>2</td>\n",
       "      <td>2</td>\n",
       "    </tr>\n",
       "    <tr>\n",
       "      <td>p2panda</td>\n",
       "      <td>4</td>\n",
       "      <td>4</td>\n",
       "      <td>4</td>\n",
       "      <td>4</td>\n",
       "      <td>4</td>\n",
       "      <td>4</td>\n",
       "      <td>4</td>\n",
       "      <td>4</td>\n",
       "      <td>4</td>\n",
       "    </tr>\n",
       "    <tr>\n",
       "      <td>phyphox: Using smartphone sensors for physics experiments</td>\n",
       "      <td>2</td>\n",
       "      <td>2</td>\n",
       "      <td>2</td>\n",
       "      <td>2</td>\n",
       "      <td>2</td>\n",
       "      <td>2</td>\n",
       "      <td>2</td>\n",
       "      <td>2</td>\n",
       "      <td>2</td>\n",
       "    </tr>\n",
       "  </tbody>\n",
       "</table>\n",
       "<p>161 rows × 9 columns</p>\n",
       "</div>"
      ],
      "text/plain": [
       "                                                    Unnamed: 0  name  \\\n",
       "talk.title                                                             \n",
       "\"Hacker hin oder her\": Die elektronische Patien...           3     3   \n",
       "#NoPNR – Let’s kill the next Data Retention Law              5     5   \n",
       "#mifail oder: Mit Gigaset wäre das nicht passiert!           3     3   \n",
       "(Post-Quantum) Isogeny Cryptography                          4     4   \n",
       "15 Jahre deutsche Telematikinfrastruktur (TI)                2     2   \n",
       "...                                                        ...   ...   \n",
       "Wifibroadcast                                                4     4   \n",
       "Wohnungsbot: An Automation-Drama in Three Acts               4     4   \n",
       "ZombieLoad Attack                                            2     2   \n",
       "p2panda                                                      4     4   \n",
       "phyphox: Using smartphone sensors for physics e...           2     2   \n",
       "\n",
       "                                                    language  \\\n",
       "talk.title                                                     \n",
       "\"Hacker hin oder her\": Die elektronische Patien...         3   \n",
       "#NoPNR – Let’s kill the next Data Retention Law            5   \n",
       "#mifail oder: Mit Gigaset wäre das nicht passiert!         3   \n",
       "(Post-Quantum) Isogeny Cryptography                        4   \n",
       "15 Jahre deutsche Telematikinfrastruktur (TI)              2   \n",
       "...                                                      ...   \n",
       "Wifibroadcast                                              4   \n",
       "Wohnungsbot: An Automation-Drama in Three Acts             4   \n",
       "ZombieLoad Attack                                          2   \n",
       "p2panda                                                    4   \n",
       "phyphox: Using smartphone sensors for physics e...         2   \n",
       "\n",
       "                                                    talk.translation_shifts  \\\n",
       "talk.title                                                                    \n",
       "\"Hacker hin oder her\": Die elektronische Patien...                        3   \n",
       "#NoPNR – Let’s kill the next Data Retention Law                           5   \n",
       "#mifail oder: Mit Gigaset wäre das nicht passiert!                        3   \n",
       "(Post-Quantum) Isogeny Cryptography                                       4   \n",
       "15 Jahre deutsche Telematikinfrastruktur (TI)                             2   \n",
       "...                                                                     ...   \n",
       "Wifibroadcast                                                             4   \n",
       "Wohnungsbot: An Automation-Drama in Three Acts                            4   \n",
       "ZombieLoad Attack                                                         2   \n",
       "p2panda                                                                   4   \n",
       "phyphox: Using smartphone sensors for physics e...                        2   \n",
       "\n",
       "                                                    talk.language  talk.room  \\\n",
       "talk.title                                                                     \n",
       "\"Hacker hin oder her\": Die elektronische Patien...              3          3   \n",
       "#NoPNR – Let’s kill the next Data Retention Law                 5          5   \n",
       "#mifail oder: Mit Gigaset wäre das nicht passiert!              3          3   \n",
       "(Post-Quantum) Isogeny Cryptography                             4          4   \n",
       "15 Jahre deutsche Telematikinfrastruktur (TI)                   2          2   \n",
       "...                                                           ...        ...   \n",
       "Wifibroadcast                                                   4          4   \n",
       "Wohnungsbot: An Automation-Drama in Three Acts                  4          4   \n",
       "ZombieLoad Attack                                               2          2   \n",
       "p2panda                                                         4          4   \n",
       "phyphox: Using smartphone sensors for physics e...              2          2   \n",
       "\n",
       "                                                    talk.duration  \\\n",
       "talk.title                                                          \n",
       "\"Hacker hin oder her\": Die elektronische Patien...              3   \n",
       "#NoPNR – Let’s kill the next Data Retention Law                 5   \n",
       "#mifail oder: Mit Gigaset wäre das nicht passiert!              3   \n",
       "(Post-Quantum) Isogeny Cryptography                             4   \n",
       "15 Jahre deutsche Telematikinfrastruktur (TI)                   2   \n",
       "...                                                           ...   \n",
       "Wifibroadcast                                                   4   \n",
       "Wohnungsbot: An Automation-Drama in Three Acts                  4   \n",
       "ZombieLoad Attack                                               2   \n",
       "p2panda                                                         4   \n",
       "phyphox: Using smartphone sensors for physics e...              2   \n",
       "\n",
       "                                                    talk.speakers  \\\n",
       "talk.title                                                          \n",
       "\"Hacker hin oder her\": Die elektronische Patien...              3   \n",
       "#NoPNR – Let’s kill the next Data Retention Law                 5   \n",
       "#mifail oder: Mit Gigaset wäre das nicht passiert!              3   \n",
       "(Post-Quantum) Isogeny Cryptography                             4   \n",
       "15 Jahre deutsche Telematikinfrastruktur (TI)                   2   \n",
       "...                                                           ...   \n",
       "Wifibroadcast                                                   4   \n",
       "Wohnungsbot: An Automation-Drama in Three Acts                  4   \n",
       "ZombieLoad Attack                                               2   \n",
       "p2panda                                                         4   \n",
       "phyphox: Using smartphone sensors for physics e...              2   \n",
       "\n",
       "                                                    talk.fahrplan  \n",
       "talk.title                                                         \n",
       "\"Hacker hin oder her\": Die elektronische Patien...              3  \n",
       "#NoPNR – Let’s kill the next Data Retention Law                 5  \n",
       "#mifail oder: Mit Gigaset wäre das nicht passiert!              3  \n",
       "(Post-Quantum) Isogeny Cryptography                             4  \n",
       "15 Jahre deutsche Telematikinfrastruktur (TI)                   2  \n",
       "...                                                           ...  \n",
       "Wifibroadcast                                                   4  \n",
       "Wohnungsbot: An Automation-Drama in Three Acts                  4  \n",
       "ZombieLoad Attack                                               2  \n",
       "p2panda                                                         4  \n",
       "phyphox: Using smartphone sensors for physics e...              2  \n",
       "\n",
       "[161 rows x 9 columns]"
      ]
     },
     "execution_count": 8,
     "metadata": {},
     "output_type": "execute_result"
    }
   ],
   "source": [
    "df.groupby('talk.title').agg('count')"
   ]
  },
  {
   "cell_type": "code",
   "execution_count": 9,
   "metadata": {},
   "outputs": [
    {
     "name": "stdout",
     "output_type": "stream",
     "text": [
      "There were 161 talks in the translation pad\n"
     ]
    }
   ],
   "source": [
    "print(f\"There were {df.groupby('talk.title').agg('count').shape[0]} talks in the translation pad\")"
   ]
  },
  {
   "cell_type": "code",
   "execution_count": 10,
   "metadata": {},
   "outputs": [
    {
     "name": "stdout",
     "output_type": "stream",
     "text": [
      "There were 0 talks without translations\n"
     ]
    }
   ],
   "source": [
    "print(f'There were {df[df[\"name\"].isnull()].shape[0]} talks without translations')"
   ]
  },
  {
   "cell_type": "markdown",
   "metadata": {},
   "source": [
    "Now let's look at the languages which we translated into:"
   ]
  },
  {
   "cell_type": "code",
   "execution_count": 11,
   "metadata": {},
   "outputs": [
    {
     "data": {
      "text/html": [
       "<div>\n",
       "<style scoped>\n",
       "    .dataframe tbody tr th:only-of-type {\n",
       "        vertical-align: middle;\n",
       "    }\n",
       "\n",
       "    .dataframe tbody tr th {\n",
       "        vertical-align: top;\n",
       "    }\n",
       "\n",
       "    .dataframe thead th {\n",
       "        text-align: right;\n",
       "    }\n",
       "</style>\n",
       "<table border=\"1\" class=\"dataframe\">\n",
       "  <thead>\n",
       "    <tr style=\"text-align: right;\">\n",
       "      <th></th>\n",
       "      <th>name</th>\n",
       "    </tr>\n",
       "    <tr>\n",
       "      <th>language</th>\n",
       "      <th></th>\n",
       "    </tr>\n",
       "  </thead>\n",
       "  <tbody>\n",
       "    <tr>\n",
       "      <td>de</td>\n",
       "      <td>104</td>\n",
       "    </tr>\n",
       "    <tr>\n",
       "      <td>en</td>\n",
       "      <td>57</td>\n",
       "    </tr>\n",
       "    <tr>\n",
       "      <td>es</td>\n",
       "      <td>23</td>\n",
       "    </tr>\n",
       "    <tr>\n",
       "      <td>fr</td>\n",
       "      <td>59</td>\n",
       "    </tr>\n",
       "    <tr>\n",
       "      <td>pl</td>\n",
       "      <td>8</td>\n",
       "    </tr>\n",
       "    <tr>\n",
       "      <td>ru</td>\n",
       "      <td>14</td>\n",
       "    </tr>\n",
       "    <tr>\n",
       "      <td>swabi</td>\n",
       "      <td>1</td>\n",
       "    </tr>\n",
       "  </tbody>\n",
       "</table>\n",
       "</div>"
      ],
      "text/plain": [
       "          name\n",
       "language      \n",
       "de         104\n",
       "en          57\n",
       "es          23\n",
       "fr          59\n",
       "pl           8\n",
       "ru          14\n",
       "swabi        1"
      ]
     },
     "execution_count": 11,
     "metadata": {},
     "output_type": "execute_result"
    }
   ],
   "source": [
    "# group by language and talk so we get uniques for each language\n",
    "uniq_languages = df.groupby(['language', 'talk.title']).agg('count').groupby('language').agg('count')\n",
    "uniq_languages[['name']]"
   ]
  },
  {
   "cell_type": "code",
   "execution_count": 12,
   "metadata": {},
   "outputs": [
    {
     "data": {
      "text/plain": [
       "<matplotlib.axes._subplots.AxesSubplot at 0x114634390>"
      ]
     },
     "execution_count": 12,
     "metadata": {},
     "output_type": "execute_result"
    }
   ],
   "source": [
    "uniq_languages[['name']].plot.bar()"
   ]
  },
  {
   "cell_type": "markdown",
   "metadata": {},
   "source": [
    "Great, now let's clean up the dataframe a little bit so that we can play with it further down..."
   ]
  },
  {
   "cell_type": "code",
   "execution_count": 13,
   "metadata": {},
   "outputs": [],
   "source": [
    "# create new column for unique name of language + translation\n",
    "df[\"title-language\"] = df[\"talk.title\"] + df[\"language\"]\n",
    "\n",
    "# drop duplicate translations (there were multiple people translating per talk)\n",
    "df = df.drop_duplicates(subset='title-language', keep=\"first\")"
   ]
  },
  {
   "cell_type": "markdown",
   "metadata": {},
   "source": [
    "# Get data from all talks\n",
    "\n",
    "Now that we have some clean data from our c3lingo organizational pads, let's pull data from the fahrplan and get it ready for analysis:"
   ]
  },
  {
   "cell_type": "code",
   "execution_count": 14,
   "metadata": {},
   "outputs": [],
   "source": [
    "# get schedule from fahrplan\n",
    "resp = requests.get('https://fahrplan.events.ccc.de/congress/2019/Fahrplan/schedule.json')\n",
    "\n",
    "# parse the json\n",
    "fahrplan_json = resp.json()\n",
    "\n",
    "# get the days\n",
    "talk_days = fahrplan_json['schedule']['conference']['days']"
   ]
  },
  {
   "cell_type": "code",
   "execution_count": 15,
   "metadata": {},
   "outputs": [
    {
     "data": {
      "text/plain": [
       "\"[{'index': 1, 'date': '2019-12-27', 'day_start': '2019-12-27T11:00:00+01:00', 'day_end': '2019-12-28T04:00:00+01:00', 'rooms': {'Ada': [{'url': 'https://fahrplan.events.ccc.de/congress/2019/Fahrplan/events/11223.html', 'id': 11223, 'guid': '6a32cb72-a69d-423c-91b5-60d88eb8e6c7', 'logo': None, 'date': '2019-12-27T11:00:00+01:00', 'start': '11:00', 'duration': '00:30', 'room': 'Ada', 'slug': '36c3-11223-opening_ceremony', 'title': 'Opening Ceremony', 'subtitle': '', 'track': 'CCC', 'type': 'lecture', 'language': 'de', 'abstract': 'Welcome!', 'description': '', 'recording_license': '', 'do_not_record': False, 'persons': [{'id': 9891, 'public_name': 'bleeptrack'}, {'id': 6697, 'public_name': 'blinry'}], 'links': [], 'attachments': []}, {'url': 'https://fahrplan.events.ccc.de/congress/2019/Fahrplan/events/11220.html', 'id': 11220, 'guid': '3aae5c0a-9c9b-483a-8c09-b4402d749a82', 'logo': None, 'date': '2019-12-27T11:30:00+01:00', 'start': '11:30', 'duration': '01:00', 'room': 'Ada', 'slug': '\""
      ]
     },
     "execution_count": 15,
     "metadata": {},
     "output_type": "execute_result"
    }
   ],
   "source": [
    "str(talk_days)[:1000]"
   ]
  },
  {
   "cell_type": "markdown",
   "metadata": {},
   "source": [
    "Wunderbar. We now pulled the data from the fahrplan API, but it's not in a nice format yet. We will parse each day to extract data and put it into a nice dataframe:"
   ]
  },
  {
   "cell_type": "code",
   "execution_count": 16,
   "metadata": {},
   "outputs": [],
   "source": [
    "def parse_day(day):\n",
    "    \"\"\"Parses a single day json and exports a dataframe\n",
    "    with all the talks that day\"\"\"\n",
    "    \n",
    "    # create an empty DataFrame\n",
    "    df = pd.DataFrame()\n",
    "    \n",
    "    # start looking at all the rooms\n",
    "    rooms = day['rooms']\n",
    "    \n",
    "    # iterate over all the rooms\n",
    "    for room in rooms:\n",
    "        # convert to DataFrame\n",
    "        single_room = pd.DataFrame(rooms[room])\n",
    "    \n",
    "        # append to DataFrame\n",
    "        df = pd.concat([df,single_room])\n",
    "    \n",
    "    # return DataFrame\n",
    "    return df"
   ]
  },
  {
   "cell_type": "code",
   "execution_count": 17,
   "metadata": {},
   "outputs": [
    {
     "name": "stdout",
     "output_type": "stream",
     "text": [
      "Parsed day 0\n",
      "Parsed day 1\n",
      "Parsed day 2\n",
      "Parsed day 3\n"
     ]
    }
   ],
   "source": [
    "# create an empty DataFrame\n",
    "fahrplan = pd.DataFrame()\n",
    "    \n",
    "for day in range(len(talk_days)):\n",
    "    # parse a single day\n",
    "    day_df = parse_day(talk_days[day])\n",
    "    \n",
    "    # append to DataFrame\n",
    "    fahrplan = pd.concat([fahrplan,day_df])\n",
    "    \n",
    "    print(f'Parsed day {day}')"
   ]
  },
  {
   "cell_type": "code",
   "execution_count": 18,
   "metadata": {},
   "outputs": [
    {
     "data": {
      "text/html": [
       "<div>\n",
       "<style scoped>\n",
       "    .dataframe tbody tr th:only-of-type {\n",
       "        vertical-align: middle;\n",
       "    }\n",
       "\n",
       "    .dataframe tbody tr th {\n",
       "        vertical-align: top;\n",
       "    }\n",
       "\n",
       "    .dataframe thead th {\n",
       "        text-align: right;\n",
       "    }\n",
       "</style>\n",
       "<table border=\"1\" class=\"dataframe\">\n",
       "  <thead>\n",
       "    <tr style=\"text-align: right;\">\n",
       "      <th></th>\n",
       "      <th>id</th>\n",
       "    </tr>\n",
       "  </thead>\n",
       "  <tbody>\n",
       "    <tr>\n",
       "      <td>count</td>\n",
       "      <td>162.000000</td>\n",
       "    </tr>\n",
       "    <tr>\n",
       "      <td>mean</td>\n",
       "      <td>10859.691358</td>\n",
       "    </tr>\n",
       "    <tr>\n",
       "      <td>std</td>\n",
       "      <td>221.927728</td>\n",
       "    </tr>\n",
       "    <tr>\n",
       "      <td>min</td>\n",
       "      <td>10496.000000</td>\n",
       "    </tr>\n",
       "    <tr>\n",
       "      <td>25%</td>\n",
       "      <td>10678.250000</td>\n",
       "    </tr>\n",
       "    <tr>\n",
       "      <td>50%</td>\n",
       "      <td>10877.000000</td>\n",
       "    </tr>\n",
       "    <tr>\n",
       "      <td>75%</td>\n",
       "      <td>11009.500000</td>\n",
       "    </tr>\n",
       "    <tr>\n",
       "      <td>max</td>\n",
       "      <td>11310.000000</td>\n",
       "    </tr>\n",
       "  </tbody>\n",
       "</table>\n",
       "</div>"
      ],
      "text/plain": [
       "                 id\n",
       "count    162.000000\n",
       "mean   10859.691358\n",
       "std      221.927728\n",
       "min    10496.000000\n",
       "25%    10678.250000\n",
       "50%    10877.000000\n",
       "75%    11009.500000\n",
       "max    11310.000000"
      ]
     },
     "execution_count": 18,
     "metadata": {},
     "output_type": "execute_result"
    }
   ],
   "source": [
    "fahrplan.describe()"
   ]
  },
  {
   "cell_type": "code",
   "execution_count": 19,
   "metadata": {},
   "outputs": [
    {
     "name": "stdout",
     "output_type": "stream",
     "text": [
      "There were 162 talks in the big rooms\n"
     ]
    }
   ],
   "source": [
    "print(f'There were {int(fahrplan.describe()[\"id\"][\"count\"])} talks in the big rooms')"
   ]
  },
  {
   "cell_type": "markdown",
   "metadata": {},
   "source": [
    "Fantastic, we've cleaned up our data now, and can go onto the analysis.\n",
    "\n",
    "# Analysis\n",
    "Here was the requested data:\n",
    "\n",
    "    100% de -> en\n",
    "    100% de -> fr\n",
    "    X% talks to fr\n",
    "    Y talks to ru\n",
    "    Z% of taks in pl\n",
    "    K% of isage of the second channel\n",
    "    L minutes translated into spanish\n",
    "\n",
    "Extra stuff:\n",
    "\n",
    "    How many talks were available in German\n",
    "    How many of English talks were translated into German\n",
    "    Which talks have no translation?"
   ]
  },
  {
   "cell_type": "code",
   "execution_count": 20,
   "metadata": {},
   "outputs": [
    {
     "name": "stdout",
     "output_type": "stream",
     "text": [
      "There were 162 talks\n"
     ]
    }
   ],
   "source": [
    "talks = fahrplan.shape[0]\n",
    "print(f'There were {talks} talks')"
   ]
  },
  {
   "cell_type": "markdown",
   "metadata": {},
   "source": [
    "First we will look at what percentage of talks have translations.."
   ]
  },
  {
   "cell_type": "code",
   "execution_count": 21,
   "metadata": {},
   "outputs": [
    {
     "name": "stdout",
     "output_type": "stream",
     "text": [
      "\u001b[1m98.28% de -> en\u001b[0m\n",
      "There were 58 talks in German, 57 (98.28%) of which were translated to English.\n"
     ]
    }
   ],
   "source": [
    "# get german to english translations\n",
    "f_german = fahrplan[fahrplan['language'] == 'de']\n",
    "german_talks = f_german.shape[0]\n",
    "german_translations = df[(df['talk.language'] == 'de') & (df['language'] == 'en')].shape[0] # only into english\n",
    "german_tr_per = round((german_translations/german_talks)*100,2)\n",
    "\n",
    "print('\\033[1m' + f'{german_tr_per}% de -> en' + '\\033[0m')\n",
    "print(f'There were {german_talks} talks in German, {german_translations} ({german_tr_per}%) of which were translated to English.')"
   ]
  },
  {
   "cell_type": "code",
   "execution_count": 22,
   "metadata": {},
   "outputs": [
    {
     "name": "stdout",
     "output_type": "stream",
     "text": [
      "\u001b[1m27.59% de -> fr\u001b[0m\n",
      "16 (27.59%) of German talks were translated to French.\n"
     ]
    }
   ],
   "source": [
    "# get german to french translations\n",
    "german_translations_fr = df[(df['talk.language'] == 'de') & (df['language'] == 'fr')].shape[0]\n",
    "german_tr_per_fr = round((german_translations_fr/german_talks)*100,2)\n",
    "\n",
    "print('\\033[1m' + f'{german_tr_per_fr}% de -> fr' + '\\033[0m')\n",
    "print(f'{german_translations_fr} ({german_tr_per_fr}%) of German talks were translated to French.')"
   ]
  },
  {
   "cell_type": "code",
   "execution_count": 23,
   "metadata": {},
   "outputs": [
    {
     "name": "stdout",
     "output_type": "stream",
     "text": [
      "\u001b[1m36.42% talks to fr\u001b[0m\n",
      "There were 59 (36.42%) talks translated to French.\n"
     ]
    }
   ],
   "source": [
    "# get any to french translations\n",
    "any_translations_fr = df[df['language'] == 'fr'].shape[0]\n",
    "fr_perc = round((any_translations_fr/talks)*100,2)\n",
    "\n",
    "print('\\033[1m' + f'{fr_perc}% talks to fr' + '\\033[0m')\n",
    "print(f'There were {any_translations_fr} ({fr_perc}%) talks translated to French.')"
   ]
  },
  {
   "cell_type": "code",
   "execution_count": 24,
   "metadata": {},
   "outputs": [
    {
     "name": "stdout",
     "output_type": "stream",
     "text": [
      "\u001b[1m8.64% talks to ru\u001b[0m\n",
      "There were 14 (8.64%) talks translated to Russian.\n"
     ]
    }
   ],
   "source": [
    "# get any to russian translations\n",
    "any_translations_ru = df[df['language'] == 'ru'].shape[0]\n",
    "ru_perc = round((any_translations_ru/talks)*100,2)\n",
    "\n",
    "print('\\033[1m' + f'{ru_perc}% talks to ru' + '\\033[0m')\n",
    "print(f'There were {any_translations_ru} ({ru_perc}%) talks translated to Russian.')"
   ]
  },
  {
   "cell_type": "code",
   "execution_count": 25,
   "metadata": {},
   "outputs": [
    {
     "name": "stdout",
     "output_type": "stream",
     "text": [
      "\u001b[1m4.94% talks to pl\u001b[0m\n",
      "There were 8 (4.94%) talks translated to Polish.\n"
     ]
    }
   ],
   "source": [
    "# get any to polish translations\n",
    "any_translations_pl = df[df['language'] == 'pl'].shape[0]\n",
    "pl_perc = round((any_translations_pl/talks)*100,2)\n",
    "\n",
    "print('\\033[1m' + f'{pl_perc}% talks to pl' + '\\033[0m')\n",
    "print(f'There were {any_translations_pl} ({pl_perc}%) talks translated to Polish.')"
   ]
  },
  {
   "cell_type": "code",
   "execution_count": 26,
   "metadata": {},
   "outputs": [
    {
     "name": "stdout",
     "output_type": "stream",
     "text": [
      "\u001b[1m14.2% talks to es\u001b[0m\n",
      "There were 23 (14.2%) talks translated to Spanish.\n"
     ]
    }
   ],
   "source": [
    "# get any to spanish translations\n",
    "any_translations_es = df[df['language'] == 'es'].shape[0]\n",
    "es_perc = round((any_translations_es/talks)*100,2)\n",
    "\n",
    "print('\\033[1m' + f'{es_perc}% talks to es' + '\\033[0m')\n",
    "print(f'There were {any_translations_es} ({es_perc}%) talks translated to Spanish.')"
   ]
  },
  {
   "cell_type": "code",
   "execution_count": 27,
   "metadata": {},
   "outputs": [
    {
     "name": "stdout",
     "output_type": "stream",
     "text": [
      "\u001b[1m0.62% talks to swabi\u001b[0m\n",
      "There were 1 (0.62%) talks translated to swabi.\n"
     ]
    }
   ],
   "source": [
    "# get any to swabi translations\n",
    "any_translations_swabi = df[df['language'] == 'swabi'].shape[0]\n",
    "swabi_perc = round((any_translations_swabi/talks)*100,2)\n",
    "\n",
    "print('\\033[1m' + f'{swabi_perc}% talks to swabi' + '\\033[0m')\n",
    "print(f'There were {any_translations_swabi} ({swabi_perc}%) talks translated to swabi.')"
   ]
  },
  {
   "cell_type": "markdown",
   "metadata": {},
   "source": [
    "Then we'll look at utilization stats..."
   ]
  },
  {
   "cell_type": "code",
   "execution_count": 28,
   "metadata": {},
   "outputs": [],
   "source": [
    "languages = df.groupby(['talk.title', 'language']).agg('count').reset_index().groupby('talk.title').agg('count')[['language']]"
   ]
  },
  {
   "cell_type": "code",
   "execution_count": 29,
   "metadata": {},
   "outputs": [
    {
     "data": {
      "text/html": [
       "<div>\n",
       "<style scoped>\n",
       "    .dataframe tbody tr th:only-of-type {\n",
       "        vertical-align: middle;\n",
       "    }\n",
       "\n",
       "    .dataframe tbody tr th {\n",
       "        vertical-align: top;\n",
       "    }\n",
       "\n",
       "    .dataframe thead th {\n",
       "        text-align: right;\n",
       "    }\n",
       "</style>\n",
       "<table border=\"1\" class=\"dataframe\">\n",
       "  <thead>\n",
       "    <tr style=\"text-align: right;\">\n",
       "      <th></th>\n",
       "      <th>language</th>\n",
       "    </tr>\n",
       "    <tr>\n",
       "      <th>talk.title</th>\n",
       "      <th></th>\n",
       "    </tr>\n",
       "  </thead>\n",
       "  <tbody>\n",
       "    <tr>\n",
       "      <td>\"Hacker hin oder her\": Die elektronische Patientenakte kommt!</td>\n",
       "      <td>1</td>\n",
       "    </tr>\n",
       "    <tr>\n",
       "      <td>#NoPNR – Let’s kill the next Data Retention Law</td>\n",
       "      <td>2</td>\n",
       "    </tr>\n",
       "    <tr>\n",
       "      <td>#mifail oder: Mit Gigaset wäre das nicht passiert!</td>\n",
       "      <td>1</td>\n",
       "    </tr>\n",
       "    <tr>\n",
       "      <td>(Post-Quantum) Isogeny Cryptography</td>\n",
       "      <td>2</td>\n",
       "    </tr>\n",
       "    <tr>\n",
       "      <td>15 Jahre deutsche Telematikinfrastruktur (TI)</td>\n",
       "      <td>1</td>\n",
       "    </tr>\n",
       "  </tbody>\n",
       "</table>\n",
       "</div>"
      ],
      "text/plain": [
       "                                                    language\n",
       "talk.title                                                  \n",
       "\"Hacker hin oder her\": Die elektronische Patien...         1\n",
       "#NoPNR – Let’s kill the next Data Retention Law            2\n",
       "#mifail oder: Mit Gigaset wäre das nicht passiert!         1\n",
       "(Post-Quantum) Isogeny Cryptography                        2\n",
       "15 Jahre deutsche Telematikinfrastruktur (TI)              1"
      ]
     },
     "execution_count": 29,
     "metadata": {},
     "output_type": "execute_result"
    }
   ],
   "source": [
    "languages.head()"
   ]
  },
  {
   "cell_type": "code",
   "execution_count": 30,
   "metadata": {},
   "outputs": [
    {
     "name": "stdout",
     "output_type": "stream",
     "text": [
      "\u001b[1m65% of usage of the second channel\u001b[0m\n",
      "The average talk had 1.65 translation channels, with 65% of talks having a second channel.\n"
     ]
    }
   ],
   "source": [
    "avg_channels = round(languages.describe()['language']['mean'], 2)\n",
    "\n",
    "second_channel = languages[languages.language > 1].shape[0]\n",
    "\n",
    "second_channel_perc = round((second_channel/talks)*100)\n",
    "\n",
    "print('\\033[1m' + f'{second_channel_perc}% of usage of the second channel' + '\\033[0m')\n",
    "print(f'The average talk had {avg_channels} translation channels, with {second_channel_perc}% of talks having a second channel.')"
   ]
  },
  {
   "cell_type": "markdown",
   "metadata": {},
   "source": [
    "Next we'll try to find some talks that are missing translations. Note that this part isn't the ideal solution, but it worked to identify the missing talk."
   ]
  },
  {
   "cell_type": "code",
   "execution_count": 31,
   "metadata": {},
   "outputs": [
    {
     "data": {
      "text/plain": [
       "['https://fahrplan.events.ccc.de/congress/2019/Fahrplan/events/10677.html',\n",
       " 'https://fahrplan.events.ccc.de/congress/2019/Fahrplan/events/10859.html',\n",
       " 'https://fahrplan.events.ccc.de/congress/2019/Fahrplan/events/10936.html',\n",
       " 'https://fahrplan.events.ccc.de/congress/2019/Fahrplan/events/11113.html']"
      ]
     },
     "execution_count": 31,
     "metadata": {},
     "output_type": "execute_result"
    }
   ],
   "source": [
    "# which talks have no translation?\n",
    "# todo: cleanup, the right talk was found here but it's not a good solution\n",
    "original_talks = fahrplan_list = fahrplan['url']\n",
    "translated_talks = list(df['talk.fahrplan'])\n",
    "\n",
    "list(set(original_talks).difference(translated_talks))"
   ]
  },
  {
   "cell_type": "markdown",
   "metadata": {},
   "source": [
    "Fantastic. Now let's look at the number of minutes that were translated for each language. This is a bit tricky since the datetime is saved into a string, so we'll need to parse it first."
   ]
  },
  {
   "cell_type": "code",
   "execution_count": 32,
   "metadata": {},
   "outputs": [],
   "source": [
    "def count_minutes(duration):\n",
    "    \"\"\"Takes the duration string and return minutes in int\"\"\"\n",
    "    \n",
    "    # split days and hours\n",
    "    translation_time = duration.split(' ')[2]\n",
    "    \n",
    "    # get hours\n",
    "    hours = int(translation_time.split(':')[0])\n",
    "    \n",
    "    # calc minutes in hours\n",
    "    hours_minutes = hours*60\n",
    "    \n",
    "    # calc minutes\n",
    "    minutes = int(translation_time.split(':')[1])\n",
    "    \n",
    "    # calculate hours + minutes so we get actual minutes\n",
    "    final_minutes = hours_minutes + minutes\n",
    "    \n",
    "    return final_minutes"
   ]
  },
  {
   "cell_type": "code",
   "execution_count": 33,
   "metadata": {},
   "outputs": [],
   "source": [
    "# compute minutes of translation for each talk\n",
    "df['translation.minutes'] = df['talk.duration'].apply(lambda x: count_minutes(x))"
   ]
  },
  {
   "cell_type": "code",
   "execution_count": 34,
   "metadata": {},
   "outputs": [
    {
     "data": {
      "text/html": [
       "<div>\n",
       "<style scoped>\n",
       "    .dataframe tbody tr th:only-of-type {\n",
       "        vertical-align: middle;\n",
       "    }\n",
       "\n",
       "    .dataframe tbody tr th {\n",
       "        vertical-align: top;\n",
       "    }\n",
       "\n",
       "    .dataframe thead th {\n",
       "        text-align: right;\n",
       "    }\n",
       "</style>\n",
       "<table border=\"1\" class=\"dataframe\">\n",
       "  <thead>\n",
       "    <tr style=\"text-align: right;\">\n",
       "      <th></th>\n",
       "      <th>translation.minutes</th>\n",
       "    </tr>\n",
       "    <tr>\n",
       "      <th>language</th>\n",
       "      <th></th>\n",
       "    </tr>\n",
       "  </thead>\n",
       "  <tbody>\n",
       "    <tr>\n",
       "      <td>de</td>\n",
       "      <td>5890</td>\n",
       "    </tr>\n",
       "    <tr>\n",
       "      <td>en</td>\n",
       "      <td>3250</td>\n",
       "    </tr>\n",
       "    <tr>\n",
       "      <td>es</td>\n",
       "      <td>1330</td>\n",
       "    </tr>\n",
       "    <tr>\n",
       "      <td>fr</td>\n",
       "      <td>3600</td>\n",
       "    </tr>\n",
       "    <tr>\n",
       "      <td>pl</td>\n",
       "      <td>360</td>\n",
       "    </tr>\n",
       "    <tr>\n",
       "      <td>ru</td>\n",
       "      <td>700</td>\n",
       "    </tr>\n",
       "    <tr>\n",
       "      <td>swabi</td>\n",
       "      <td>60</td>\n",
       "    </tr>\n",
       "  </tbody>\n",
       "</table>\n",
       "</div>"
      ],
      "text/plain": [
       "          translation.minutes\n",
       "language                     \n",
       "de                       5890\n",
       "en                       3250\n",
       "es                       1330\n",
       "fr                       3600\n",
       "pl                        360\n",
       "ru                        700\n",
       "swabi                      60"
      ]
     },
     "execution_count": 34,
     "metadata": {},
     "output_type": "execute_result"
    }
   ],
   "source": [
    "df.groupby('language').agg('sum')[['translation.minutes']]"
   ]
  },
  {
   "cell_type": "code",
   "execution_count": 35,
   "metadata": {},
   "outputs": [
    {
     "data": {
      "text/plain": [
       "<matplotlib.axes._subplots.AxesSubplot at 0x116964150>"
      ]
     },
     "execution_count": 35,
     "metadata": {},
     "output_type": "execute_result"
    },
    {
     "data": {
      "image/png": "[encoded data removed]",
      "text/plain": [
       "<Figure size 432x288 with 1 Axes>"
      ]
     },
     "metadata": {
      "needs_background": "light"
     },
     "output_type": "display_data"
    }
   ],
   "source": [
    "df.groupby('language').agg('sum')[['translation.minutes']].plot.bar()"
   ]
  },
  {
   "cell_type": "code",
   "execution_count": 36,
   "metadata": {},
   "outputs": [
    {
     "name": "stdout",
     "output_type": "stream",
     "text": [
      "There was a total of 15190 minutes of transltions\n"
     ]
    }
   ],
   "source": [
    "print(f\"There was a total of {int(df.groupby('language').agg('sum')[['translation.minutes']].sum())} minutes of transltions\")"
   ]
  },
  {
   "cell_type": "markdown",
   "metadata": {},
   "source": [
    "Great, now let's pull some stats that may be useful for the users of this service:"
   ]
  },
  {
   "cell_type": "code",
   "execution_count": 37,
   "metadata": {},
   "outputs": [],
   "source": [
    "# find all the german\n",
    "original_german = df[df['talk.language'] == 'de']\n",
    "translated_german = df[df['language'] == 'de']\n",
    "\n",
    "# concatenated german\n",
    "all_the_german = pd.concat([original_german,translated_german])\n",
    "\n",
    "# unique german\n",
    "unique_german = df.drop_duplicates(subset='talk.title', keep=\"first\")"
   ]
  },
  {
   "cell_type": "code",
   "execution_count": 38,
   "metadata": {},
   "outputs": [
    {
     "name": "stdout",
     "output_type": "stream",
     "text": [
      "There were 161 talks available in German.\n"
     ]
    }
   ],
   "source": [
    "print(f'There were {unique_german.shape[0]} talks available in German.')"
   ]
  },
  {
   "cell_type": "code",
   "execution_count": 39,
   "metadata": {},
   "outputs": [
    {
     "name": "stdout",
     "output_type": "stream",
     "text": [
      "104 English talks were translated into German.\n"
     ]
    }
   ],
   "source": [
    "translated_into_german = df[(df['talk.language'] == 'en') & (df['language'] == 'de')].shape[0]\n",
    "\n",
    "print(f'{translated_into_german} English talks were translated into German.')"
   ]
  }
 ],
 "metadata": {
  "kernelspec": {
   "display_name": "Python 3",
   "language": "python",
   "name": "python3"
  },
  "language_info": {
   "codemirror_mode": {
    "name": "ipython",
    "version": 3
   },
   "file_extension": ".py",
   "mimetype": "text/x-python",
   "name": "python",
   "nbconvert_exporter": "python",
   "pygments_lexer": "ipython3",
   "version": "3.7.4"
  }
 },
 "nbformat": 4,
 "nbformat_minor": 2
}
